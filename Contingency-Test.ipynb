{
 "cells": [
  {
   "cell_type": "code",
   "execution_count": 6,
   "id": "45d2242c-baf1-4b9c-947e-a22a018aa8f1",
   "metadata": {},
   "outputs": [],
   "source": [
    "import os\n",
    "import numpy as np\n",
    "from tqdm import tqdm\n",
    "import pandas as pd\n",
    "import pandapower as pp\n",
    "import pandapower.networks as pn\n",
    "import pandapower.plotting as plot\n",
    "from pandapower.control import ConstControl\n",
    "from pandapower.timeseries import DFData, OutputWriter, run_timeseries\n",
    "import matplotlib.pyplot as plt\n",
    "from scipy.stats import norm"
   ]
  },
  {
   "cell_type": "code",
   "execution_count": 12,
   "id": "ab4be494-60f2-49ce-99cb-69b21e711837",
   "metadata": {},
   "outputs": [
    {
     "name": "stdout",
     "output_type": "stream",
     "text": [
      "Base Case: Power flow successfully converged.\n"
     ]
    }
   ],
   "source": [
    "# Define criteria thresholds\n",
    "voltage_threshold = 0.95  # Minimum acceptable voltage in p.u.\n",
    "line_loading_threshold = 100.0  # Maximum acceptable line loading in percentage\n",
    "\n",
    "# Perform base case power flow\n",
    "pp.runpp(net)\n",
    "# Check the base case results\n",
    "print(\"Base Case: Power flow successfully converged.\")\n",
    "base_voltages = net.res_bus['vm_pu']\n",
    "base_line_loadings = net.res_line['loading_percent']"
   ]
  },
  {
   "cell_type": "code",
   "execution_count": 13,
   "id": "6304b47d-9e11-4e56-a3ca-aea690a0c354",
   "metadata": {},
   "outputs": [],
   "source": [
    "# List of lines to consider for contingencies\n",
    "line_contingencies = net.line.index.tolist()\n",
    "\n",
    "# List of generators to consider for contingencies\n",
    "gen_contingencies = net.gen.index.tolist()"
   ]
  },
  {
   "cell_type": "code",
   "execution_count": 14,
   "id": "68bb0b41-1039-42ac-825b-88c72a2532e4",
   "metadata": {},
   "outputs": [],
   "source": [
    "# Results storage\n",
    "contingency_results = []\n",
    "\n",
    "# Loop through line contingencies\n",
    "for line in line_contingencies:\n",
    "    # Backup the original line state\n",
    "    original_in_service = net.line.at[line, 'in_service']\n",
    "    \n",
    "    # Simulate the contingency by opening the line\n",
    "    net.line.at[line, 'in_service'] = False\n",
    "    \n",
    "    try:\n",
    "        # Run power flow\n",
    "        pp.runpp(net)\n",
    "        \n",
    "        # Check system stability (voltage and line loading limits)\n",
    "        max_voltage = net.res_bus['vm_pu'].max()\n",
    "        min_voltage = net.res_bus['vm_pu'].min()\n",
    "        max_loading = net.res_line['loading_percent'].max()\n",
    "        \n",
    "        contingency_results.append({\n",
    "            'Contingency': f'Line {line}',\n",
    "            'Max Voltage (p.u.)': max_voltage,\n",
    "            'Min Voltage (p.u.)': min_voltage,\n",
    "            'Max Line Loading (%)': max_loading,\n",
    "            'Status': 'Stable' if max_voltage < 1.1 and min_voltage > 0.9 and max_loading < 100 else 'Unstable'\n",
    "        })\n",
    "    except pp.LoadflowNotConverged:\n",
    "        contingency_results.append({\n",
    "            'Contingency': f'Line {line}',\n",
    "            'Max Voltage (p.u.)': None,\n",
    "            'Min Voltage (p.u.)': None,\n",
    "            'Max Line Loading (%)': None,\n",
    "            'Status': 'Failed to converge'\n",
    "        })\n",
    "    \n",
    "    # Restore the original line state\n",
    "    net.line.at[line, 'in_service'] = original_in_service\n",
    "\n",
    "# Loop through generator contingencies\n",
    "for gen in gen_contingencies:\n",
    "    # Backup the original generator state\n",
    "    original_in_service = net.gen.at[gen, 'in_service']\n",
    "    \n",
    "    # Simulate the contingency by shutting down the generator\n",
    "    net.gen.at[gen, 'in_service'] = False\n",
    "    \n",
    "    try:\n",
    "        # Run power flow\n",
    "        pp.runpp(net)\n",
    "        \n",
    "        # Check system stability (voltage and line loading limits)\n",
    "        max_voltage = net.res_bus['vm_pu'].max()\n",
    "        min_voltage = net.res_bus['vm_pu'].min()\n",
    "        max_loading = net.res_line['loading_percent'].max()\n",
    "        \n",
    "        contingency_results.append({\n",
    "            'Contingency': f'Generator {gen}',\n",
    "            'Max Voltage (p.u.)': max_voltage,\n",
    "            'Min Voltage (p.u.)': min_voltage,\n",
    "            'Max Line Loading (%)': max_loading,\n",
    "            'Status': 'Stable' if max_voltage < 1.1 and min_voltage > 0.9 and max_loading < 100 else 'Unstable'\n",
    "        })\n",
    "    except pp.LoadflowNotConverged:\n",
    "        contingency_results.append({\n",
    "            'Contingency': f'Generator {gen}',\n",
    "            'Max Voltage (p.u.)': None,\n",
    "            'Min Voltage (p.u.)': None,\n",
    "            'Max Line Loading (%)': None,\n",
    "            'Status': 'Failed to converge'\n",
    "        })\n",
    "    \n",
    "    # Restore the original generator state\n",
    "    net.gen.at[gen, 'in_service'] = original_in_service\n"
   ]
  },
  {
   "cell_type": "code",
   "execution_count": 15,
   "id": "d3fdb1a7-6739-40d2-888f-c8927d36ab70",
   "metadata": {},
   "outputs": [
    {
     "name": "stdout",
     "output_type": "stream",
     "text": [
      "Contingency results saved to 'n1_contingency_results.xlsx'.\n"
     ]
    }
   ],
   "source": [
    "df_results = pd.DataFrame(contingency_results)\n",
    "df_results.to_excel(\"n1_contingency_results.xlsx\", index=False)\n",
    "print(\"Contingency results saved to 'n1_contingency_results.xlsx'.\")"
   ]
  },
  {
   "cell_type": "code",
   "execution_count": null,
   "id": "2562ec39-2ca3-412d-8d9e-643512dca955",
   "metadata": {},
   "outputs": [],
   "source": []
  }
 ],
 "metadata": {
  "kernelspec": {
   "display_name": "Python 3 (ipykernel)",
   "language": "python",
   "name": "python3"
  },
  "language_info": {
   "codemirror_mode": {
    "name": "ipython",
    "version": 3
   },
   "file_extension": ".py",
   "mimetype": "text/x-python",
   "name": "python",
   "nbconvert_exporter": "python",
   "pygments_lexer": "ipython3",
   "version": "3.11.7"
  }
 },
 "nbformat": 4,
 "nbformat_minor": 5
}
